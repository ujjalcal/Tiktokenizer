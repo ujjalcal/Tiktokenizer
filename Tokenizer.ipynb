{
  "nbformat": 4,
  "nbformat_minor": 0,
  "metadata": {
    "colab": {
      "provenance": [],
      "authorship_tag": "ABX9TyO4x6UjtRSD9h+pV7chij6h",
      "include_colab_link": true
    },
    "kernelspec": {
      "name": "python3",
      "display_name": "Python 3"
    },
    "language_info": {
      "name": "python"
    }
  },
  "cells": [
    {
      "cell_type": "markdown",
      "metadata": {
        "id": "view-in-github",
        "colab_type": "text"
      },
      "source": [
        "<a href=\"https://colab.research.google.com/github/ujjalcal/Tiktokenizer/blob/main/Tokenizer.ipynb\" target=\"_parent\"><img src=\"https://colab.research.google.com/assets/colab-badge.svg\" alt=\"Open In Colab\"/></a>"
      ]
    },
    {
      "cell_type": "code",
      "source": [
        "!pip install tiktoken"
      ],
      "metadata": {
        "colab": {
          "base_uri": "https://localhost:8080/"
        },
        "id": "5fCbKdt0OBw3",
        "outputId": "105c0765-ec87-4e9d-d066-ce7f418cfcd5"
      },
      "execution_count": 10,
      "outputs": [
        {
          "output_type": "stream",
          "name": "stdout",
          "text": [
            "Requirement already satisfied: tiktoken in /usr/local/lib/python3.11/dist-packages (0.8.0)\n",
            "Requirement already satisfied: regex>=2022.1.18 in /usr/local/lib/python3.11/dist-packages (from tiktoken) (2024.11.6)\n",
            "Requirement already satisfied: requests>=2.26.0 in /usr/local/lib/python3.11/dist-packages (from tiktoken) (2.32.3)\n",
            "Requirement already satisfied: charset-normalizer<4,>=2 in /usr/local/lib/python3.11/dist-packages (from requests>=2.26.0->tiktoken) (3.4.1)\n",
            "Requirement already satisfied: idna<4,>=2.5 in /usr/local/lib/python3.11/dist-packages (from requests>=2.26.0->tiktoken) (3.10)\n",
            "Requirement already satisfied: urllib3<3,>=1.21.1 in /usr/local/lib/python3.11/dist-packages (from requests>=2.26.0->tiktoken) (2.3.0)\n",
            "Requirement already satisfied: certifi>=2017.4.17 in /usr/local/lib/python3.11/dist-packages (from requests>=2.26.0->tiktoken) (2025.1.31)\n"
          ]
        }
      ]
    },
    {
      "cell_type": "code",
      "execution_count": 11,
      "metadata": {
        "colab": {
          "base_uri": "https://localhost:8080/"
        },
        "id": "qAF0Tz2ZN5Z4",
        "outputId": "f97dbb7d-17ac-41f4-803b-330fcda68aaf"
      },
      "outputs": [
        {
          "output_type": "stream",
          "name": "stdout",
          "text": [
            "Tokens: [9906, 10343]\n",
            "Number of tokens: 2\n",
            "Decoded Tokens: Hello\n",
            "Decoded Tokens: World\n",
            "Decoded full text: HelloWorld\n"
          ]
        }
      ],
      "source": [
        "import tiktoken\n",
        "\n",
        "def tokenize_text(text, encoding_name=\"cl100k_base\"):\n",
        "    \"\"\"\n",
        "    Tokenizes the input text using the specified encoding.\n",
        "\n",
        "    Args:\n",
        "    text (str): The input text to tokenize.\n",
        "    encoding_name (str): The name of the encoding to use (default: \"cl100k_base\").\n",
        "\n",
        "    Returns:\n",
        "    list: A list of token integers.\n",
        "    \"\"\"\n",
        "    encoding = tiktoken.get_encoding(encoding_name)\n",
        "    tokens = encoding.encode(text)\n",
        "    return tokens\n",
        "\n",
        "# Example usage\n",
        "text = \"HelloWorld\"\n",
        "\n",
        "tokens = tokenize_text(text)\n",
        "print(f\"Tokens: {tokens}\")\n",
        "print(f\"Number of tokens: {len(tokens)}\")\n",
        "\n",
        "# Decode tokens back to text\n",
        "for token in tokens:\n",
        "    decoded_text = tiktoken.get_encoding(\"cl100k_base\").decode([token])\n",
        "    print(f\"Decoded Tokens: {decoded_text}\")\n",
        "\n",
        "# Decode a single token\n",
        "decoded_text = tiktoken.get_encoding(\"cl100k_base\").decode(tokens)\n",
        "print(f\"Decoded full text: {decoded_text}\")\n"
      ]
    }
  ]
}