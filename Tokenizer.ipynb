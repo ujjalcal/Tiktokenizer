{
  "cells": [
    {
      "cell_type": "markdown",
      "metadata": {
        "colab_type": "text",
        "id": "view-in-github"
      },
      "source": [
        "<a href=\"https://colab.research.google.com/github/ujjalcal/Tiktokenizer/blob/main/Tokenizer.ipynb\" target=\"_parent\"><img src=\"https://colab.research.google.com/assets/colab-badge.svg\" alt=\"Open In Colab\"/></a>"
      ]
    },
    {
      "cell_type": "code",
      "execution_count": null,
      "metadata": {
        "colab": {
          "base_uri": "https://localhost:8080/"
        },
        "id": "5fCbKdt0OBw3",
        "outputId": "105c0765-ec87-4e9d-d066-ce7f418cfcd5"
      },
      "outputs": [],
      "source": [
        "!pip install tiktoken"
      ]
    },
    {
      "cell_type": "code",
      "execution_count": null,
      "metadata": {
        "colab": {
          "base_uri": "https://localhost:8080/"
        },
        "id": "qAF0Tz2ZN5Z4",
        "outputId": "f97dbb7d-17ac-41f4-803b-330fcda68aaf"
      },
      "outputs": [],
      "source": [
        "import tiktoken\n",
        "\n",
        "def tokenize_text(text, encoding_name=\"cl100k_base\"):\n",
        "    \"\"\"\n",
        "    Tokenizes the input text using the specified encoding.\n",
        "\n",
        "    Args:\n",
        "    text (str): The input text to tokenize.\n",
        "    encoding_name (str): The name of the encoding to use (default: \"cl100k_base\").\n",
        "\n",
        "    Returns:\n",
        "    list: A list of token integers.\n",
        "    \"\"\"\n",
        "    encoding = tiktoken.get_encoding(encoding_name)\n",
        "    tokens = encoding.encode(text)\n",
        "    return tokens\n",
        "\n",
        "# Example usage\n",
        "#text = \"Papa kahete hain\"\n",
        "text = \"Daddy tells me\"\n",
        "\n",
        "tokens = tokenize_text(text)\n",
        "print(f\"Tokens: {tokens}\")\n",
        "print(f\"Number of tokens: {len(tokens)}\")\n",
        "\n",
        "# Decode tokens back to text\n",
        "for token in tokens:\n",
        "    decoded_text = tiktoken.get_encoding(\"cl100k_base\").decode([token])\n",
        "    print(f\"Decoded Tokens: {decoded_text}\")\n",
        "\n",
        "# Decode a single token\n",
        "decoded_text = tiktoken.get_encoding(\"cl100k_base\").decode(tokens)\n",
        "print(f\"Decoded full text: {decoded_text}\")\n"
      ]
    }
  ],
  "metadata": {
    "colab": {
      "authorship_tag": "ABX9TyO4x6UjtRSD9h+pV7chij6h",
      "include_colab_link": true,
      "provenance": []
    },
    "kernelspec": {
      "display_name": "Python 3",
      "name": "python3"
    },
    "language_info": {
      "codemirror_mode": {
        "name": "ipython",
        "version": 3
      },
      "file_extension": ".py",
      "mimetype": "text/x-python",
      "name": "python",
      "nbconvert_exporter": "python",
      "pygments_lexer": "ipython3",
      "version": "3.12.1"
    }
  },
  "nbformat": 4,
  "nbformat_minor": 0
}
